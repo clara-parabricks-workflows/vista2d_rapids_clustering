{
 "cells": [
  {
   "cell_type": "markdown",
   "id": "231c762e",
   "metadata": {},
   "source": [
    "# Feature Extraction and Morphology Clustering using Vista2D and RAPIDS"
   ]
  },
  {
   "cell_type": "markdown",
   "id": "4cb6cfed",
   "metadata": {},
   "source": [
    "For background information on the methods outlined see the accompanying [blog post](). "
   ]
  },
  {
   "cell_type": "markdown",
   "id": "fdba27d7",
   "metadata": {},
   "source": [
    "## 1. Feature Extraction with Vista2D"
   ]
  },
  {
   "cell_type": "markdown",
   "id": "a96627c3",
   "metadata": {},
   "source": [
    "### Loading a Pre-trained Model"
   ]
  },
  {
   "cell_type": "markdown",
   "id": "647a13e9",
   "metadata": {},
   "source": [
    "This lab uses a pre-trained Vista2D model, which is provided as a model checkpoint below. "
   ]
  },
  {
   "cell_type": "code",
   "execution_count": null,
   "id": "1bc6b4c4",
   "metadata": {},
   "outputs": [],
   "source": [
    "model_ckpt = \"cell_vista_segmentation/results/model.pt\""
   ]
  },
  {
   "cell_type": "markdown",
   "id": "913be37b",
   "metadata": {},
   "source": [
    "### Running Segmentation"
   ]
  },
  {
   "cell_type": "markdown",
   "id": "8c200b3c",
   "metadata": {},
   "source": [
    "To keep the notebook clean, most of the Vista2D code is wrapped up in helper functions which can be found in `segmentation.py` in the root directory of this repository. For now let's just import the functions we will be using. "
   ]
  },
  {
   "cell_type": "code",
   "execution_count": null,
   "id": "93f12cf4",
   "metadata": {},
   "outputs": [],
   "source": [
    "from segmentation import segment_cells, plot_segmentation, feature_extract, plot_cells_by_class"
   ]
  },
  {
   "cell_type": "markdown",
   "id": "f47d1cea",
   "metadata": {},
   "source": [
    "This lab uses data from [Live Cell](https://www.nature.com/articles/s41592-021-01249-6), a database of live cell imaging designed for this type of segmentation task. \n",
    "\n",
    "In the code cell below, we single out one of the images from this database and run it through segmentation. "
   ]
  },
  {
   "cell_type": "code",
   "execution_count": null,
   "id": "618ce074",
   "metadata": {
    "scrolled": false
   },
   "outputs": [],
   "source": [
    "img_path=\"example_livecell_image.tif\"\n",
    "patch, segmentation, pred_mask = segment_cells(img_path, model_ckpt)"
   ]
  },
  {
   "cell_type": "markdown",
   "id": "42c8c280",
   "metadata": {},
   "source": [
    "This function gives us back the original cell image, the segmentations, and the instances of each segmentation. We will plot that information below. "
   ]
  },
  {
   "cell_type": "code",
   "execution_count": null,
   "id": "5431ad25",
   "metadata": {},
   "outputs": [],
   "source": [
    "plot_segmentation(patch, segmentation, pred_mask)"
   ]
  },
  {
   "cell_type": "markdown",
   "id": "c070b2d2",
   "metadata": {},
   "source": [
    "Now that we have segmentation complete we can see how many cells are in the image, and we even have enough information to segment out each individual cell. In the next section of the lab, we will take each individual cell and run a feature extractor on it, to get a representation of that cell in the feature space of the model. These feature vectors will be used later for clustering. "
   ]
  },
  {
   "cell_type": "markdown",
   "id": "4ef54599",
   "metadata": {},
   "source": [
    "### Feature Extraction"
   ]
  },
  {
   "cell_type": "markdown",
   "id": "90e5f746",
   "metadata": {},
   "source": [
    "The helper function `feature_extract` will run each cell segmentation through a feature extractor. For this lab, we are using the Vista2D model again, but this time as a feature extractor. We will send it through the first half of the model, the encoding portion, so that the model can encode information about the cell shape in this feature vector. "
   ]
  },
  {
   "cell_type": "code",
   "execution_count": null,
   "id": "2413f05e",
   "metadata": {
    "scrolled": true
   },
   "outputs": [],
   "source": [
    "cell_features = feature_extract(pred_mask, patch, model_ckpt) "
   ]
  },
  {
   "cell_type": "markdown",
   "id": "c6cc6ad3",
   "metadata": {},
   "source": [
    "Now in `cell_features` each row represents a different cell segmentation from the image, and each column represents a feature in the embedding space of the Vista2D model. Thus we have a full feature matrix for the cell segmentations and we are reading for clustering. "
   ]
  },
  {
   "cell_type": "markdown",
   "id": "fea16e2c",
   "metadata": {},
   "source": [
    "## 2. Morphology Clustering with RAPIDS"
   ]
  },
  {
   "cell_type": "markdown",
   "id": "3753d676",
   "metadata": {},
   "source": [
    "### What is RAPIDS"
   ]
  },
  {
   "cell_type": "markdown",
   "id": "18ab1be6",
   "metadata": {},
   "source": [
    "[RAPIDS](https://developer.nvidia.com/rapids) is an suite of tools from NVIDIA for accelerated data science. In this lab, we will use it to run clustering on our cell segmentations. \n",
    "\n",
    "Below are the libraries we will need for this section of the lab. "
   ]
  },
  {
   "cell_type": "code",
   "execution_count": null,
   "id": "ba8be74d",
   "metadata": {},
   "outputs": [],
   "source": [
    "import numpy as np\n",
    "from cuml import DBSCAN, TruncatedSVD"
   ]
  },
  {
   "cell_type": "markdown",
   "id": "5888cd0d",
   "metadata": {},
   "source": [
    "### Running clustering"
   ]
  },
  {
   "cell_type": "markdown",
   "id": "30b12fd3",
   "metadata": {},
   "source": [
    "To make our clustering problem easier, and so that we can visualize the results later, let's reduce our feature vector size from 256 down to 3 (one for x, y, z dimensions). To do this, we can use the `TruncatedSVD` algorithm from the `cuml` package in RAPIDS and we will select that we want 3 components. "
   ]
  },
  {
   "cell_type": "code",
   "execution_count": null,
   "id": "b2d96779",
   "metadata": {},
   "outputs": [],
   "source": [
    "dim_red_model = TruncatedSVD(n_components=3)\n",
    "X = dim_red_model.fit_transform(cell_features)"
   ]
  },
  {
   "cell_type": "markdown",
   "id": "11f29725",
   "metadata": {},
   "source": [
    "Now we are ready to run clustering. For this we will use `DBSCAN` from the `cuml` package in RAPIDS. "
   ]
  },
  {
   "cell_type": "code",
   "execution_count": null,
   "id": "8ee25ed3",
   "metadata": {},
   "outputs": [],
   "source": [
    "model = DBSCAN(eps=0.003, min_samples=2)\n",
    "labels = model.fit_predict(X)"
   ]
  },
  {
   "cell_type": "markdown",
   "id": "d9dfd2b2",
   "metadata": {},
   "source": [
    "### Visualizing the clusters"
   ]
  },
  {
   "cell_type": "markdown",
   "id": "2a289dc8",
   "metadata": {},
   "source": [
    "The clustering is done, but in order to understand it ourselves, we must visualize it somehow. In this section we will show a few ways to look at the data. "
   ]
  },
  {
   "cell_type": "code",
   "execution_count": null,
   "id": "7fcbd3d0",
   "metadata": {},
   "outputs": [],
   "source": [
    "import plotly\n",
    "import plotly.graph_objs as go\n",
    "\n",
    "# Configure Plotly to be rendered inline in the notebook.\n",
    "plotly.offline.init_notebook_mode()"
   ]
  },
  {
   "cell_type": "markdown",
   "id": "748cbb6a",
   "metadata": {},
   "source": [
    "We can create a dictionary of cluster labels and the cell segmentations they contain. This will also make it easier for downstream analysis so we can index into clusters and data points. "
   ]
  },
  {
   "cell_type": "code",
   "execution_count": null,
   "id": "a3b116e0",
   "metadata": {
    "scrolled": false
   },
   "outputs": [],
   "source": [
    "# Background is 0, so cell IDs start at 1\n",
    "labels_dict = {x:np.add(np.where(labels==x),1) for x in np.unique(labels)}\n",
    "\n",
    "# Label -1 means \"data was too noisy\" so we remove it\n",
    "labels_dict.pop(-1)\n",
    "labels_dict"
   ]
  },
  {
   "cell_type": "markdown",
   "id": "dea600ab",
   "metadata": {},
   "source": [
    "Now we can see we have 4 clusters, and we can see how many cell segmentations belong to each cluster. Let's visualize these clusters in 3D space using a scatterplot. "
   ]
  },
  {
   "cell_type": "code",
   "execution_count": null,
   "id": "e3487ec1",
   "metadata": {
    "scrolled": false
   },
   "outputs": [],
   "source": [
    "data = []\n",
    "\n",
    "for l in labels_dict.keys():\n",
    "    \n",
    "    cluster_indices = labels_dict[l][0]-1\n",
    "\n",
    "    # Configure the trace\n",
    "    trace = go.Scatter3d(\n",
    "        x=X[cluster_indices,0],  \n",
    "        y=X[cluster_indices,1],  \n",
    "        z=X[cluster_indices,2],\n",
    "        name=\"Cluster \"+str(l),\n",
    "        mode='markers',\n",
    "        marker={\n",
    "            'size': 10,\n",
    "            'opacity': 0.8,\n",
    "        }\n",
    "    )\n",
    "    \n",
    "    data.append(trace)\n",
    "\n",
    "# Configure the layout\n",
    "layout = go.Layout(\n",
    "    margin={'l': 0, 'r': 0, 'b': 0, 't': 0}\n",
    ")\n",
    "\n",
    "plot_figure = go.Figure(data=data, layout=layout)\n",
    "\n",
    "# Render the plot\n",
    "plotly.offline.iplot(plot_figure)"
   ]
  },
  {
   "cell_type": "markdown",
   "id": "39fde477",
   "metadata": {},
   "source": [
    "This method with these parameters uses 4 distinct clusters. "
   ]
  },
  {
   "cell_type": "markdown",
   "id": "1c8bb8c2",
   "metadata": {},
   "source": [
    "## Conclusion"
   ]
  },
  {
   "cell_type": "markdown",
   "id": "4d90870b",
   "metadata": {},
   "source": []
  }
 ],
 "metadata": {
  "kernelspec": {
   "display_name": "Python 3 (ipykernel)",
   "language": "python",
   "name": "python3"
  },
  "language_info": {
   "codemirror_mode": {
    "name": "ipython",
    "version": 3
   },
   "file_extension": ".py",
   "mimetype": "text/x-python",
   "name": "python",
   "nbconvert_exporter": "python",
   "pygments_lexer": "ipython3",
   "version": "3.10.12"
  }
 },
 "nbformat": 4,
 "nbformat_minor": 5
}
